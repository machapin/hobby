{
 "cells": [
  {
   "cell_type": "code",
   "execution_count": 1,
   "metadata": {},
   "outputs": [],
   "source": [
    "import pandas as pd\n",
    "import numpy as np\n",
    "from pulp import *"
   ]
  },
  {
   "cell_type": "code",
   "execution_count": 2,
   "metadata": {},
   "outputs": [],
   "source": [
    "# 4月のイベント\n",
    "# *** は自由に変更可能、それ以外は期間中は固定\n",
    "\n",
    "attri = 'クール'  # 属性\n",
    "attri_diff = 5000  # 属性が違う時に下がる値\n",
    "attri_diff_max = 0  # 属性が違うキャラ数の最大値 ***\n",
    "# attri_poten_num = 131  # ポテンシャルスターの個数 ***\n",
    "target_1 = 246600  # 攻\n",
    "target_2 = 193200  # 守\n",
    "target_3 = 166300  # 特攻\n",
    "target_4 = 170600  # 特守\n",
    "cost_min = 175  # コストの最小値\n",
    "cost_max = 178  # コストの最大値\n",
    "num_target = 7  # 人数の条件\n",
    "num_max = 7  # 考慮する人数の最大値 ***\n",
    "num_min = 7  # 考慮する人数の最小値 ***\n",
    "num_diff = 20000  # 人数が違うときに下がる値\n",
    "rare_need = 'SSR'  # 必須レア\n",
    "rare_need_min = 2  # 必須レアの人数の最小値\n",
    "# ur_lv_up = 1  # URのレベル上げの最大回数 ***\n",
    "excel_name = 'aiwo_new_9.xlsx'"
   ]
  },
  {
   "cell_type": "code",
   "execution_count": 3,
   "metadata": {},
   "outputs": [
    {
     "name": "stdout",
     "output_type": "stream",
     "text": [
      "今回考えるものの個数: 1237\n",
      "名前が重複していないキャラ数: 111\n"
     ]
    }
   ],
   "source": [
    "df = pd.read_excel(excel_name, header=None, skiprows=1)\n",
    "a = df.values\n",
    "N = a.shape[0]  # データの個数、すなわちaの行の数\n",
    "\n",
    "number = a[:, 0].astype(np.int32)  # 番号：A列\n",
    "name = a[:, 14]  # 名前：O列\n",
    "f_name = a[:, 13]  # フル名前：N列\n",
    "level = a[:, 7].astype(np.int32)  # レベル：H列\n",
    "potential = a[:, 11]  # ポテンシャル：L列\n",
    "rare = a[:, 10]  # レアリティ：K列\n",
    "attribute = a[:, 16]  # 属性：Q列\n",
    "cost = a[:, 17].astype(np.int32)  # コスト：R列\n",
    "growth = a[:, 18]  # 成長型：S列\n",
    "\n",
    "status_1 = a[:, 19].astype(np.int32)  # 現在攻：T列\n",
    "status_2 = a[:, 20].astype(np.int32)  # 現在守：Y列\n",
    "status_3 = a[:, 21].astype(np.int32)  # 現在特攻：V列\n",
    "status_4 = a[:, 22].astype(np.int32)  # 現在特守：W列\n",
    "status_sum = status_1 + status_2 + status_3 + status_4\n",
    "\n",
    "#--------考えるもののラベルの作成-------#\n",
    "# labelsに、レア度が'N'と'R'ではないものの、上からの番号を入れる。\n",
    "labels = []\n",
    "for i in range(N):\n",
    "    if rare[i] != 'N' and rare[i] != 'R':\n",
    "        labels.append(i)\n",
    "ALL = len(labels)\n",
    "print('今回考えるものの個数:', ALL)\n",
    "\n",
    "#--------配列の抽出--------#\n",
    "status_1_ = np.array([status_1[label] for label in labels])\n",
    "status_2_ = np.array([status_2[label] for label in labels])\n",
    "status_3_ = np.array([status_3[label] for label in labels])\n",
    "status_4_ = np.array([status_4[label] for label in labels])\n",
    "status_sum_ = np.array([status_sum[label] for label in labels])\n",
    "\n",
    "number_ = np.array([number[label] for label in labels])\n",
    "cost_ = np.array([cost[label] for label in labels])\n",
    "level_ = np.array([level[label] for label in labels])\n",
    "potential_ = np.array([potential[label] for label in labels])\n",
    "rare_ = np.array([rare[label] for label in labels])\n",
    "# ifとelseを使う場合は、forは後ろらしい。\n",
    "rare_need_ = np.array([1 if (i == rare_need) else 0 for i in rare_])\n",
    "# print(rare_need_)  # SSRなら1、N,R,SSR以外なら0\n",
    "\n",
    "name_ = np.array([name[label] for label in labels])\n",
    "f_name_ = np.array([f_name[label] for label in labels])\n",
    "attribute_ = np.array([attribute[label] for label in labels])\n",
    "attri_num = np.array([1 if (i != attri) else 0 for i in attribute_])\n",
    "# print(attri_num)  # 属性が一致しないものなら1、一致すると0\n",
    "\n",
    "NAME_ALL = len(set(name))\n",
    "print('名前が重複していないキャラ数:', NAME_ALL)\n",
    "name_list = list(set(name))  # set(name)は重複していないものの{  }型、listで[  ]型に変更\n",
    "name_list = np.sort(name_list)  # あいうえお順\n",
    "name_int = {n: i for i, n in enumerate(name_list)}  # 名前と数値を一対一対応する辞書\n",
    "# print(name_int)\n",
    "n_name_ = [name_int[na] for na in name_]  # n_name_は名前を表す数値、出席番号みたいな感じ\n",
    "# print(n_name_)\n",
    "\n",
    "matrix = np.zeros((NAME_ALL, ALL)).astype(np.int32)  # NAME_ALL*ALL次元の0行列\n",
    "for i in range(NAME_ALL):\n",
    "    for j in range(ALL):\n",
    "        if n_name_[j] == i:\n",
    "            matrix[i, j] = 1"
   ]
  },
  {
   "cell_type": "code",
   "execution_count": 4,
   "metadata": {},
   "outputs": [
    {
     "name": "stdout",
     "output_type": "stream",
     "text": [
      "保存するファイル名: ./0602/nummin7_nummax7_attri0\n"
     ]
    }
   ],
   "source": [
    "# 保存するディレクトリ名\n",
    "directory = './0602'  # このpythonファイルの名前\n",
    "# 保存するファイル名\n",
    "file_name = directory + '/nummin%d_nummax%d_attri%d' % (num_min, num_max, attri_diff_max)\n",
    "print('保存するファイル名:', file_name)"
   ]
  },
  {
   "cell_type": "code",
   "execution_count": 5,
   "metadata": {},
   "outputs": [
    {
     "name": "stdout",
     "output_type": "stream",
     "text": [
      "問題の定義なう...\n"
     ]
    }
   ],
   "source": [
    "#--------問題の定義--------#\n",
    "print('問題の定義なう...')\n",
    "# m = LpProblem(sense=LpMaximize)  # 目的関数を最大化\n",
    "m = LpProblem(name=file_name)  # 目的関数を最小化\n",
    "x = [LpVariable('x%d' % i, cat=LpBinary)\n",
    "     for i in range(ALL)]  # x:選ばれたら1、選ばれないものは0\n",
    "z = LpVariable('z', cat='Integer')  # y:ステータスの差の絶対値\n",
    "a = LpVariable('a', cat='Integer')  # a,b,c,d:記録用\n",
    "b = LpVariable('b', cat='Integer')\n",
    "c = LpVariable('c', cat='Integer')\n",
    "d = LpVariable('d', cat='Integer')\n",
    "\n",
    "# 目的関数:ステータスの差の絶対値の合計と、属性の差による誤差\n",
    "m += z + attri_diff * lpDot(attri_num, x)\n",
    "# 条件\n",
    "m += lpDot(status_1_, x) - target_1 == a\n",
    "m += lpDot(status_2_, x) - target_2 == b\n",
    "m += lpDot(status_3_, x) - target_3 == c\n",
    "m += lpDot(status_4_, x) - target_4 == d\n",
    "m += a+b+c+d <= z\n",
    "m += a+b+c-d <= z\n",
    "m += a+b-c+d <= z\n",
    "m += a+b-c-d <= z\n",
    "m += a-b+c+d <= z\n",
    "m += a-b+c-d <= z\n",
    "m += a-b-c+d <= z\n",
    "m += a-b-c-d <= z\n",
    "m += -a+b+c+d <= z\n",
    "m += -a+b+c-d <= z\n",
    "m += -a+b-c+d <= z\n",
    "m += -a+b-c-d <= z\n",
    "m += -a-b+c+d <= z\n",
    "m += -a-b+c-d <= z\n",
    "m += -a-b-c+d <= z\n",
    "m += -a-b-c-d <= z\n",
    "\n",
    "for i in range(NAME_ALL):\n",
    "    m += lpDot(matrix[i, :], x) <= 1  # それぞれの名前の番号の合計は最大1\n",
    "m += lpSum(x[i] for i in range(ALL)) <= num_max\n",
    "m += lpSum(x[i] for i in range(ALL)) >= num_min\n",
    "m += lpDot(cost_, x) >= cost_min\n",
    "m += lpDot(cost_, x) <= cost_max\n",
    "m += lpDot(rare_need_, x) >= rare_need_min\n",
    "m += lpDot(attri_num, x) <= attri_diff_max  # 属性が違うキャラ数の制約"
   ]
  },
  {
   "cell_type": "code",
   "execution_count": null,
   "metadata": {},
   "outputs": [],
   "source": [
    "#--------solve開始--------#\n",
    "try:\n",
    "    # ファイルを保存せずに終了\n",
    "    # m.solve(PULP_CBC_CMD(msg=True))\n",
    "\n",
    "    # ファイルを保存して終了\n",
    "    os.makedirs(directory, exist_ok=True)  # ディレクトリが無ければ作成\n",
    "    m.solve(PULP_CBC_CMD(msg=True, keepFiles=True, options=['mips', file_name+'-pulp.sol']))\n",
    "\n",
    "except KeyboardInterrupt:\n",
    "    m.solve(PULP_CBC_CMD(timeLimit=1, msg=False, options=['mips', file_name+'-pulp.sol']))\n",
    "\n",
    "\n",
    "# 保存したファイルの結果確認用\n",
    "# m.solve(PULP_CBC_CMD(timeLimit=1, msg=False, options=['mips', file_name+'-pulp.sol']))"
   ]
  },
  {
   "cell_type": "code",
   "execution_count": 8,
   "metadata": {},
   "outputs": [],
   "source": [
    "#--------solve開始--------#\n",
    "# try:\n",
    "#     # ファイルを保存せずに終了\n",
    "#     # m.solve(PULP_CBC_CMD(msg=True))\n",
    "\n",
    "#     # ファイルを保存して終了\n",
    "#     os.makedirs(directory, exist_ok=True)  # ディレクトリが無ければ作成\n",
    "#     m.solve(PULP_CBC_CMD(msg=True, keepFiles=True, options=['mips', file_name+'-pulp.sol']))\n",
    "\n",
    "# except KeyboardInterrupt:\n",
    "#     m.solve(PULP_CBC_CMD(timeLimit=1, msg=False, options=['mips', file_name+'-pulp.sol']))\n",
    "\n",
    "\n",
    "# 保存したファイルの結果確認用\n",
    "# m.solve(PULP_CBC_CMD(timeLimit=1, msg=False, options=['mips', file_name+'-pulp.sol']))\n",
    "\n",
    "\n",
    "# 時間制限を設けて実行\n",
    "timeover = 5*60\n",
    "m.solve(PULP_CBC_CMD(timeLimit=timeover))"
   ]
  },
  {
   "cell_type": "code",
   "execution_count": 7,
   "metadata": {},
   "outputs": [
    {
     "name": "stdout",
     "output_type": "stream",
     "text": [
      "番号: [ 349  352  567  642  644  896 1072]\n",
      "名前: ['【瑞光祥春】天宮那智' '【アイオラ】ウミュウ' '【トップを狙う】白神七瀬' '【キミにプレゼント】雪城渚' '【スポーツ】葉山星名'\n",
      " '【ネコ娘ッ！】イリーナ・ロマネンコ' '【夜桜】愛葉礼華']\n",
      "属性: ['クール' 'クール' 'クール' 'クール' 'クール' 'クール' 'クール']\n",
      "レベル: [  1 110 110 110 100 100 130]\n",
      "レア: ['SSR' 'UR' 'LR' 'UR' 'SSR' 'UR' 'LR']\n",
      "現在のポテンシャル: [  0   0   0   0   0   0 100]\n",
      "コスト: 178 [24 24 30 23 17 30 30]\n",
      "攻: 246508 (差:92) [ 4580 33120 29250 44955 19404 38710 71489]\n",
      "守: 193246 (差:-46) [ 5160 27855 32445 29970 15162 35035 42619]\n",
      "特攻: 166215 (差:85) [ 7010 21150 58050 11340 19404 24605 19656]\n",
      "特守: 170523 (差:77) [ 6430 22185 42885 13725 15162 28140 36996]\n",
      "総合力: [ 23180 104310 162630  99990  69132 126490 170760]\n",
      "総評価: 99700 = 100000-300(絶対値の差)-0(属性違い)\n",
      "結果: Optimal\n"
     ]
    }
   ],
   "source": [
    "#--------結果の表示--------#\n",
    "moku = value(m.objective)  # 目的関数の値\n",
    "kai = [i for i in range(ALL) if value(x[i]) == 1]  # value(x[i])は0か1。1のものの番号の配列\n",
    "\n",
    "print('番号:', np.array([number_[i] for i in kai]))\n",
    "print('名前:', np.array([f_name_[i] for i in kai]))\n",
    "print('属性:', np.array([attribute_[i] for i in kai]))\n",
    "print('レベル:', np.array([level_[i] for i in kai]))\n",
    "print('レア:', np.array([rare_[i] for i in kai]))\n",
    "print('現在のポテンシャル:', np.array([potential_[i] for i in kai]))\n",
    "print('コスト: %d' % np.sum([cost_[i] for i in kai]),\n",
    "      np.array([cost_[i] for i in kai]))\n",
    "wa_1 = np.sum([status_1_[i] for i in kai])\n",
    "wa_2 = np.sum([status_2_[i] for i in kai])\n",
    "wa_3 = np.sum([status_3_[i] for i in kai])\n",
    "wa_4 = np.sum([status_4_[i] for i in kai])\n",
    "print('攻: %d (差:%d)' % (wa_1, target_1-wa_1),\n",
    "      np.array([status_1_[i] for i in kai])-50*np.array([potential_[i] for i in kai]))\n",
    "print('守: %d (差:%d)' % (wa_2, target_2-wa_2),\n",
    "      np.array([status_2_[i] for i in kai])-50*np.array([potential_[i] for i in kai]))\n",
    "print('特攻: %d (差:%d)' % (wa_3, target_3-wa_3),\n",
    "      np.array([status_3_[i] for i in kai])-50*np.array([potential_[i] for i in kai]))\n",
    "print('特守: %d (差:%d)' % (wa_4, target_4-wa_4),\n",
    "      np.array([status_4_[i] for i in kai])-50*np.array([potential_[i] for i in kai]))\n",
    "print('総合力:', np.array([status_sum_[i] for i in kai]) -\n",
    "      200*np.array([potential_[i] for i in kai]))\n",
    "\n",
    "abs_sum = np.abs(wa_1-target_1)+np.abs(wa_2-target_2) + \\\n",
    "    np.abs(wa_3-target_3)+np.abs(wa_4-target_4)  # 絶対値の合計\n",
    "attri_sum = attri_diff*np.sum([attri_num[i] for i in kai])  # 属性違いによる減点\n",
    "\n",
    "if len(kai) <= num_target:\n",
    "    print('総評価:', np.int32(100000-abs_sum-attri_sum), end='')\n",
    "    print(f' = 100000-{abs_sum}(絶対値の差)-{attri_sum}(属性違い)')\n",
    "else:\n",
    "    print('総評価:', np.int32(100000-abs_sum-attri_sum-num_diff), end='')\n",
    "    print(f' = 100000-{abs_sum}(絶対値の差)-{attri_sum}(属性違い)-{num_diff}(人数オーバー)')\n",
    "\n",
    "print('結果:', LpStatus[m.status])\n"
   ]
  }
 ],
 "metadata": {
  "kernelspec": {
   "display_name": "Python 3",
   "language": "python",
   "name": "python3"
  },
  "language_info": {
   "codemirror_mode": {
    "name": "ipython",
    "version": 3
   },
   "file_extension": ".py",
   "mimetype": "text/x-python",
   "name": "python",
   "nbconvert_exporter": "python",
   "pygments_lexer": "ipython3",
   "version": "3.9.5"
  },
  "orig_nbformat": 4
 },
 "nbformat": 4,
 "nbformat_minor": 2
}
