{
 "cells": [
  {
   "attachments": {},
   "cell_type": "markdown",
   "metadata": {},
   "source": [
    "## pendulum-v0という連続値行動をDDPGで学習"
   ]
  },
  {
   "cell_type": "code",
   "execution_count": 1,
   "metadata": {},
   "outputs": [],
   "source": [
    "import numpy as np\n",
    "import copy\n",
    "from collections import deque\n",
    "import gym\n",
    "# from gym import wrappers\n",
    "import torch\n",
    "import torch.nn as nn\n",
    "import torch.nn.functional as F\n",
    "import torch.optim as optim\n",
    "# from torch.distributions import Categorical, Normal\n",
    "# import matplotlib\n",
    "# import matplotlib.animation as animation\n",
    "import matplotlib.pyplot as plt"
   ]
  },
  {
   "cell_type": "code",
   "execution_count": 2,
   "metadata": {},
   "outputs": [],
   "source": [
    "# actorのネットワーク（状態を入力にして行動（スカラー値)を出力）\n",
    "class ActorNetwork(nn.Module):\n",
    "    def __init__(self, num_state, action_space, hidden_size=16):\n",
    "        super(ActorNetwork, self).__init__()\n",
    "        self.action_mean = torch.tensor(0.5*(action_space.high+action_space.low),\n",
    "                                        dtype=torch.float)  # 0.0\n",
    "        self.action_halfwidth = torch.tensor(0.5*(action_space.high-action_space.low),\n",
    "                                             dtype=torch.float)  # 4.0\n",
    "        # 3(状態)-->16-->16-->1(どのぐらい回すかの行動)\n",
    "        self.fc1 = nn.Linear(num_state, hidden_size)\n",
    "        self.fc2 = nn.Linear(hidden_size, hidden_size)\n",
    "        self.fc3 = nn.Linear(hidden_size, action_space.shape[0])\n",
    "\n",
    "    def forward(self, s):\n",
    "        h = F.elu(self.fc1(s))\n",
    "        h = F.elu(self.fc2(h))\n",
    "        a = self.action_mean + self.action_halfwidth*torch.tanh(self.fc3(h))\n",
    "        return a\n"
   ]
  },
  {
   "cell_type": "code",
   "execution_count": 3,
   "metadata": {},
   "outputs": [],
   "source": [
    "# criticのネットワーク（状態と行動を入力にしてQ値を出力）\n",
    "class CriticNetwork(nn.Module):\n",
    "    def __init__(self, num_state, action_space, hidden_size=16):\n",
    "        super(CriticNetwork, self).__init__()\n",
    "        self.action_mean = torch.tensor(0.5*(action_space.high+action_space.low),\n",
    "                                        dtype=torch.float)\n",
    "        self.action_halfwidth = torch.tensor(0.5*(action_space.high-action_space.low),\n",
    "                                             dtype=torch.float)\n",
    "        # 3(状態)+1(行動)-->16-->16-->1(Q値)\n",
    "        self.fc1 = nn.Linear(num_state+action_space.shape[0], hidden_size)\n",
    "        self.fc2 = nn.Linear(hidden_size, hidden_size)\n",
    "        self.fc3 = nn.Linear(hidden_size, action_space.shape[0])\n",
    "\n",
    "    def forward(self, s, a):\n",
    "        a = (a-self.action_mean)/self.action_halfwidth  # [-1,1]の範囲に正規化\n",
    "        h = F.elu(self.fc1(torch.cat([s, a], 1)))\n",
    "        h = F.elu(self.fc2(h))\n",
    "        q = self.fc3(h)\n",
    "        return q"
   ]
  },
  {
   "cell_type": "code",
   "execution_count": 4,
   "metadata": {},
   "outputs": [],
   "source": [
    "class ReplayBuffer:  # リプレイバッファの定義\n",
    "    def __init__(self, memory_size):\n",
    "        self.memory_size = memory_size\n",
    "        self.memory = deque([], maxlen=memory_size)\n",
    "\n",
    "    def append(self, transition):\n",
    "        self.memory.append(transition)\n",
    "\n",
    "    def sample(self, batch_size):\n",
    "        batch_indexes = np.random.randint(0, len(self.memory), size=batch_size)\n",
    "        states = np.array([self.memory[index]['state']\n",
    "                          for index in batch_indexes])\n",
    "        next_states = np.array([self.memory[index]['next_state']\n",
    "                               for index in batch_indexes])\n",
    "        rewards = np.array([self.memory[index]['reward']\n",
    "                           for index in batch_indexes])\n",
    "        actions = np.array([self.memory[index]['action']\n",
    "                           for index in batch_indexes])\n",
    "        dones = np.array([self.memory[index]['done']\n",
    "                         for index in batch_indexes])\n",
    "        return {'states': states, 'next_states': next_states, 'rewards': rewards, 'actions': actions, 'dones': dones}\n"
   ]
  },
  {
   "cell_type": "code",
   "execution_count": 5,
   "metadata": {},
   "outputs": [],
   "source": [
    "class DdpgAgent:\n",
    "    def __init__(self, observation_space, action_space, gamma=0.99, lr=1e-3, batch_size=32, memory_size=50000):\n",
    "        self.num_state = observation_space.shape[0]\n",
    "        self.num_action = action_space.shape[0]\n",
    "        self.state_mean = 0.5*(observation_space.high + observation_space.low)\n",
    "        self.state_halfwidth = 0.5 * (observation_space.high -\n",
    "                                      observation_space.low)\n",
    "        self.gamma = gamma  # 割引率\n",
    "        self.batch_size = batch_size\n",
    "        self.actor = ActorNetwork(self.num_state, action_space)\n",
    "        self.actor_target = copy.deepcopy(self.actor)  # actorのターゲットネットワーク\n",
    "        self.actor_optimizer = optim.Adam(self.actor.parameters(), lr=lr)\n",
    "        self.critic = CriticNetwork(self.num_state, action_space)\n",
    "        self.critic_target = copy.deepcopy(self.critic)  # criticのターゲットネットワーク\n",
    "        self.critic_optimizer = optim.Adam(self.critic.parameters(), lr=lr)\n",
    "        self.replay_buffer = ReplayBuffer(memory_size)\n",
    "\n",
    "    # 連続値の状態を[-1,1]の範囲に正規化\n",
    "    def normalize_state(self, state):\n",
    "        state = (state-self.state_mean)/self.state_halfwidth\n",
    "        return state\n",
    "\n",
    "    # リプレイバッファからサンプルされたミニバッチをtensorに変換\n",
    "    def batch_to_tensor(self, batch):\n",
    "        states = torch.tensor([self.normalize_state(s) for s in batch[\"states\"]],\n",
    "                              dtype=torch.float)\n",
    "        actions = torch.tensor(batch[\"actions\"], dtype=torch.float)\n",
    "        next_states = torch.tensor([self.normalize_state(s) for s in batch[\"next_states\"]],\n",
    "                                   dtype=torch.float)\n",
    "        rewards = torch.tensor(batch[\"rewards\"], dtype=torch.float)\n",
    "        return states, actions, next_states, rewards\n",
    "\n",
    "    # actorとcriticを更新\n",
    "    def update(self):\n",
    "        batch = self.replay_buffer.sample(self.batch_size)\n",
    "        states, actions, next_states, rewards = self.batch_to_tensor(batch)\n",
    "\n",
    "        # criticの更新\n",
    "        # target_qの勾配を更新しない(ヒント：　.data, ().detach)\n",
    "        target_q = (rewards + self.gamma*self.critic_target(next_states,\n",
    "                                                            self.actor_target(next_states)).squeeze()).data\n",
    "        q = self.critic(states, actions).squeeze()\n",
    "        critic_loss = F.mse_loss(q, target_q)  # q, target_qの差を最小化する\n",
    "        self.critic_optimizer.zero_grad()\n",
    "        critic_loss.backward()\n",
    "        self.critic_optimizer.step()\n",
    "\n",
    "        # actorの更新\n",
    "        # actorはQ関数 𝑄𝜙(𝑠,𝜋𝜃(𝑠)) の値が最大となるように学習\n",
    "        actor_loss = -self.critic(states, self.actor(states)).mean()\n",
    "        self.actor_optimizer.zero_grad()\n",
    "        actor_loss.backward()\n",
    "        self.actor_optimizer.step()\n",
    "\n",
    "        # ターゲットネットワークのパラメータを更新\n",
    "        self.critic_target = copy.deepcopy(self.critic)\n",
    "        self.actor_target = copy.deepcopy(self.actor)\n",
    "\n",
    "    # Q値が最大の行動を選択\n",
    "    def get_action(self, state):\n",
    "        state_tensor = torch.tensor(self.normalize_state(state),\n",
    "                                    dtype=torch.float).view(-1, self.num_state)\n",
    "        action = self.actor(state_tensor).view(self.num_action)\n",
    "        return action"
   ]
  },
  {
   "cell_type": "code",
   "execution_count": 6,
   "metadata": {},
   "outputs": [],
   "source": [
    "# 各種設定\n",
    "num_episode = 250  # 学習エピソード数（学習に時間がかかるので短めにしています）\n",
    "memory_size = 50000  # replay bufferの大きさ\n",
    "initial_memory_size = 1000  # 最初に貯めるランダムな遷移の数\n",
    "# ログ用の設定\n",
    "episode_rewards = []\n",
    "num_average_epidodes = 10\n",
    "\n",
    "env = gym.make('Pendulum-v0')\n",
    "max_steps = env.spec.max_episode_steps  # エピソードの最大ステップ数\n",
    "agent = DdpgAgent(env.observation_space, env.action_space,\n",
    "                  memory_size=memory_size)"
   ]
  },
  {
   "cell_type": "code",
   "execution_count": 7,
   "metadata": {},
   "outputs": [
    {
     "name": "stdout",
     "output_type": "stream",
     "text": [
      "1000 Data collected\n"
     ]
    },
    {
     "name": "stderr",
     "output_type": "stream",
     "text": [
      "C:\\Users\\machapin\\AppData\\Local\\Temp\\ipykernel_14536\\1313088457.py:25: UserWarning: Creating a tensor from a list of numpy.ndarrays is extremely slow. Please consider converting the list to a single numpy.ndarray with numpy.array() before converting to a tensor. (Triggered internally at  ..\\torch\\csrc\\utils\\tensor_new.cpp:201.)\n",
      "  states = torch.tensor([self.normalize_state(s) for s in batch[\"states\"]],\n"
     ]
    },
    {
     "name": "stdout",
     "output_type": "stream",
     "text": [
      "Episode 0 finished | Episode reward -1091.782727\n",
      "Episode 20 finished | Episode reward -1574.479412\n",
      "Episode 40 finished | Episode reward -1492.674295\n",
      "Episode 60 finished | Episode reward -1291.411107\n",
      "Episode 80 finished | Episode reward -1375.054790\n",
      "Episode 100 finished | Episode reward -1411.042530\n",
      "Episode 120 finished | Episode reward -1454.527899\n",
      "Episode 140 finished | Episode reward -1479.857494\n",
      "Episode 160 finished | Episode reward -1542.463954\n",
      "Episode 180 finished | Episode reward -1524.854819\n",
      "Episode 200 finished | Episode reward -1515.011947\n",
      "Episode 220 finished | Episode reward -1530.191253\n",
      "Episode 240 finished | Episode reward -1495.742561\n"
     ]
    },
    {
     "data": {
      "image/png": "[encoded data removed]",
      "text/plain": [
       "<Figure size 432x288 with 1 Axes>"
      ]
     },
     "metadata": {
      "needs_background": "light"
     },
     "output_type": "display_data"
    }
   ],
   "source": [
    "# 最初にreplay bufferにランダムな行動をしたときのデータを入れる\n",
    "state = env.reset()\n",
    "for step in range(initial_memory_size):\n",
    "    action = env.action_space.sample()  # ランダムに行動を選択\n",
    "    next_state, reward, done, _ = env.step(action)\n",
    "    transition = {\n",
    "        'state': state,\n",
    "        'next_state': next_state,\n",
    "        'reward': reward,\n",
    "        'action': action,\n",
    "        'done': int(done)\n",
    "    }\n",
    "    agent.replay_buffer.append(transition)\n",
    "    state = env.reset() if done else next_state\n",
    "print('%d Data collected' % (initial_memory_size))\n",
    "\n",
    "for episode in range(num_episode):\n",
    "    state = env.reset()  # envからは3次元の連続値の観測が返ってくる\n",
    "    episode_reward = 0\n",
    "    for t in range(max_steps):\n",
    "        action = agent.get_action(state).data.numpy()  # 行動を選択\n",
    "        next_state, reward, done, _ = env.step(action)\n",
    "        episode_reward += reward\n",
    "        transition = {\n",
    "            'state': state,\n",
    "            'next_state': next_state,\n",
    "            'reward': reward,\n",
    "            'action': action,\n",
    "            'done': int(done)\n",
    "        }\n",
    "        agent.replay_buffer.append(transition)\n",
    "        agent.update()  # actorとcriticを更新\n",
    "        state = next_state\n",
    "        if done:\n",
    "            break\n",
    "    episode_rewards.append(episode_reward)\n",
    "    if episode % 20 == 0:\n",
    "        print(\"Episode %d finished | Episode reward %f\" %\n",
    "              (episode, episode_reward))\n",
    "\n",
    "# 累積報酬の移動平均を表示\n",
    "moving_average = np.convolve(episode_rewards, np.ones(\n",
    "    num_average_epidodes)/num_average_epidodes, mode='valid')\n",
    "plt.plot(np.arange(len(moving_average)), moving_average)\n",
    "plt.title('DDPG: average rewards in %d episodes' % num_average_epidodes)\n",
    "plt.xlabel('episode')\n",
    "plt.ylabel('rewards')\n",
    "plt.show()\n",
    "\n",
    "env.close()\n"
   ]
  }
 ],
 "metadata": {
  "kernelspec": {
   "display_name": "Python 3",
   "language": "python",
   "name": "python3"
  },
  "language_info": {
   "codemirror_mode": {
    "name": "ipython",
    "version": 3
   },
   "file_extension": ".py",
   "mimetype": "text/x-python",
   "name": "python",
   "nbconvert_exporter": "python",
   "pygments_lexer": "ipython3",
   "version": "3.9.5"
  },
  "orig_nbformat": 4
 },
 "nbformat": 4,
 "nbformat_minor": 2
}
